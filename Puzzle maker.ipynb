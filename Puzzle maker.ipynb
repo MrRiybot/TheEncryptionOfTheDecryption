{
 "cells": [
  {
   "cell_type": "code",
   "execution_count": 64,
   "id": "42d36cde",
   "metadata": {},
   "outputs": [],
   "source": [
    "from PIL import Image\n",
    "from numpy import asarray\n",
    "import numpy as np"
   ]
  },
  {
   "cell_type": "code",
   "execution_count": 87,
   "id": "4fb65e9a",
   "metadata": {},
   "outputs": [],
   "source": [
    "img = Image.open('ftc-grey.bmp').convert('L')"
   ]
  },
  {
   "cell_type": "code",
   "execution_count": 88,
   "id": "f27e46b9",
   "metadata": {},
   "outputs": [],
   "source": [
    "numpydata = asarray(img)"
   ]
  },
  {
   "cell_type": "code",
   "execution_count": 89,
   "id": "6213e933",
   "metadata": {},
   "outputs": [
    {
     "data": {
      "text/plain": [
       "(300, 300)"
      ]
     },
     "execution_count": 89,
     "metadata": {},
     "output_type": "execute_result"
    }
   ],
   "source": [
    "numpydata.shape"
   ]
  },
  {
   "cell_type": "code",
   "execution_count": 90,
   "id": "73c6eb3f",
   "metadata": {},
   "outputs": [
    {
     "data": {
      "text/plain": [
       "array([[ 41,  41,  42, ..., 108, 109, 109],\n",
       "       [ 42,  42,  43, ..., 109, 109, 110],\n",
       "       [ 42,  42,  42, ..., 110, 110, 110],\n",
       "       ...,\n",
       "       [109, 109, 110, ..., 253, 253, 253],\n",
       "       [109, 109, 110, ..., 253, 253, 254],\n",
       "       [109, 109, 110, ..., 254, 253, 254]], dtype=uint8)"
      ]
     },
     "execution_count": 90,
     "metadata": {},
     "output_type": "execute_result"
    }
   ],
   "source": [
    "numpydata"
   ]
  },
  {
   "cell_type": "code",
   "execution_count": 91,
   "id": "e8f6b026",
   "metadata": {},
   "outputs": [],
   "source": [
    "tnd = numpydata"
   ]
  },
  {
   "cell_type": "code",
   "execution_count": null,
   "id": "2ad82406",
   "metadata": {},
   "outputs": [],
   "source": []
  },
  {
   "cell_type": "code",
   "execution_count": 92,
   "id": "6450bd49",
   "metadata": {},
   "outputs": [],
   "source": [
    "text = '72 101 108 108 111 32 119 111 114 108 100 32 102 114 111 109 32 70 117 116 117 114 101 32 116 101 99 104 110 111 108 111 103 121 32 99 108 117 98'\n",
    "arr_text = text.split(\" \")"
   ]
  },
  {
   "cell_type": "code",
   "execution_count": 93,
   "id": "6968be75",
   "metadata": {},
   "outputs": [],
   "source": [
    "arr_text = list(map(int, arr_text))"
   ]
  },
  {
   "cell_type": "code",
   "execution_count": 94,
   "id": "61e6d358",
   "metadata": {},
   "outputs": [],
   "source": [
    "tnd[250][149:188] = np.array(arr_text)"
   ]
  },
  {
   "cell_type": "code",
   "execution_count": 95,
   "id": "2316ae4e",
   "metadata": {},
   "outputs": [
    {
     "data": {
      "text/plain": [
       "array([ 72, 101, 108, 108, 111,  32, 119, 111, 114, 108, 100,  32, 102,\n",
       "       114, 111, 109,  32,  70, 117, 116, 117, 114, 101,  32, 116, 101,\n",
       "        99, 104, 110, 111, 108, 111, 103, 121,  32,  99, 108, 117,  98],\n",
       "      dtype=uint8)"
      ]
     },
     "execution_count": 95,
     "metadata": {},
     "output_type": "execute_result"
    }
   ],
   "source": [
    "tnd[250][149:188]"
   ]
  },
  {
   "cell_type": "code",
   "execution_count": 96,
   "id": "38f29bb1",
   "metadata": {},
   "outputs": [],
   "source": [
    "from matplotlib import cm\n",
    "im = Image.fromarray(np.uint8(tnd))"
   ]
  },
  {
   "cell_type": "code",
   "execution_count": 97,
   "id": "397798df",
   "metadata": {},
   "outputs": [],
   "source": [
    "im.save('puzzle.bmp')"
   ]
  },
  {
   "cell_type": "code",
   "execution_count": 98,
   "id": "6a348986",
   "metadata": {},
   "outputs": [],
   "source": [
    "img = Image.open('puzzle.bmp')"
   ]
  },
  {
   "cell_type": "code",
   "execution_count": 99,
   "id": "97618315",
   "metadata": {},
   "outputs": [],
   "source": [
    "numpydata = asarray(img)"
   ]
  },
  {
   "cell_type": "code",
   "execution_count": 100,
   "id": "5de21e0f",
   "metadata": {},
   "outputs": [
    {
     "data": {
      "text/plain": [
       "array([ 72, 101, 108, 108, 111,  32, 119, 111, 114, 108, 100,  32, 102,\n",
       "       114, 111, 109,  32,  70, 117, 116, 117, 114, 101,  32, 116, 101,\n",
       "        99, 104, 110, 111, 108, 111, 103, 121,  32,  99, 108, 117,  98],\n",
       "      dtype=uint8)"
      ]
     },
     "execution_count": 100,
     "metadata": {},
     "output_type": "execute_result"
    }
   ],
   "source": [
    "numpydata[250][149:188]"
   ]
  },
  {
   "cell_type": "code",
   "execution_count": null,
   "id": "d68a77ce",
   "metadata": {},
   "outputs": [],
   "source": []
  }
 ],
 "metadata": {
  "kernelspec": {
   "display_name": "projects",
   "language": "python",
   "name": "myenv"
  },
  "language_info": {
   "codemirror_mode": {
    "name": "ipython",
    "version": 3
   },
   "file_extension": ".py",
   "mimetype": "text/x-python",
   "name": "python",
   "nbconvert_exporter": "python",
   "pygments_lexer": "ipython3",
   "version": "3.9.12"
  }
 },
 "nbformat": 4,
 "nbformat_minor": 5
}
